{
  "nbformat": 4,
  "nbformat_minor": 0,
  "metadata": {
    "colab": {
      "name": "Unit2_Mini_Project.ipynb",
      "provenance": [],
      "collapsed_sections": [],
      "include_colab_link": true
    },
    "kernelspec": {
      "name": "python3",
      "display_name": "Python 3"
    }
  },
  "cells": [
    {
      "cell_type": "markdown",
      "metadata": {
        "id": "view-in-github",
        "colab_type": "text"
      },
      "source": [
        "<a href=\"https://colab.research.google.com/github/Abhinagit24/data_analytics_2/blob/main/Python/Unit2_Mini_Project.ipynb\" target=\"_parent\"><img src=\"https://colab.research.google.com/assets/colab-badge.svg\" alt=\"Open In Colab\"/></a>"
      ]
    },
    {
      "cell_type": "markdown",
      "metadata": {
        "id": "Vgs8Kp4TidFQ"
      },
      "source": [
        "# Intrdouction to Python - Mini Project"
      ]
    },
    {
      "cell_type": "markdown",
      "metadata": {
        "id": "_Hq7Ny79iwgD"
      },
      "source": [
        "#Python Project – Odd or Even\r\n",
        "\r\n",
        "Ask the user for a number. Depending on whether the number is even or odd, print out an appropriate message to the user. Hint: how does an even / odd number react differently when divided by 2?\r\n"
      ]
    },
    {
      "cell_type": "code",
      "metadata": {
        "id": "lotvpVpvlKsR",
        "colab": {
          "base_uri": "https://localhost:8080/"
        },
        "outputId": "11340a50-5fa9-42d6-83fb-16bc653bb7ae"
      },
      "source": [
        "number = int(input(\"Enter a number: \"))"
      ],
      "execution_count": null,
      "outputs": [
        {
          "output_type": "stream",
          "text": [
            "Enter a number: 24\n"
          ],
          "name": "stdout"
        }
      ]
    },
    {
      "cell_type": "code",
      "metadata": {
        "id": "oNXY-CfrlLbE",
        "colab": {
          "base_uri": "https://localhost:8080/"
        },
        "outputId": "5ba1bb53-306f-4e15-a2b4-933ef1105543"
      },
      "source": [
        "if (number % 2) == 0:\r\n",
        "  print( str(number) + \" is an even number\")\r\n",
        "else:\r\n",
        "  print( str(number) + \" is an odd number\")"
      ],
      "execution_count": null,
      "outputs": [
        {
          "output_type": "stream",
          "text": [
            "24 is an even number\n"
          ],
          "name": "stdout"
        }
      ]
    },
    {
      "cell_type": "markdown",
      "metadata": {
        "id": "io_27RSlizno"
      },
      "source": [
        "# Bonus:\r\n",
        "\r\n",
        "1.\tIf the number is a multiple of 4, print out a different message.\r\n",
        "\r\n",
        "2.\tAsk the user for two numbers: one number to check (call it num) and one number to divide by (check). If check divides evenly into num, tell that to the user. If not, print a different appropriate message.\r\n"
      ]
    },
    {
      "cell_type": "code",
      "metadata": {
        "id": "Dh1o5cAylSHB",
        "colab": {
          "base_uri": "https://localhost:8080/"
        },
        "outputId": "d4bb124d-67d3-4187-ca85-5d38f47f79ad"
      },
      "source": [
        "if (number % 2) == 0:\r\n",
        "  if (number % 4) == 0:\r\n",
        "    print( str(number) + \" is an even number and is a multiple of 4\")\r\n",
        "  else:\r\n",
        "    print( str(number) + \" is an even number\")\r\n",
        "else:\r\n",
        "  print( str(number) + \" is an odd number\")"
      ],
      "execution_count": null,
      "outputs": [
        {
          "output_type": "stream",
          "text": [
            "24 is an even number and is a multiple of 4\n"
          ],
          "name": "stdout"
        }
      ]
    },
    {
      "cell_type": "code",
      "metadata": {
        "id": "vs8ppR-wlSKL",
        "colab": {
          "base_uri": "https://localhost:8080/"
        },
        "outputId": "5ff1c5fb-ab3c-43cb-ada7-e34a8e0ac49a"
      },
      "source": [
        "num = int(input(\"Enter a number to check: \"))\r\n",
        "check = int(input(\"Enter a number to divide by: \"))\r\n",
        "print(\" num = \" + str(num))\r\n",
        "print(\" check = \" + str(check))"
      ],
      "execution_count": null,
      "outputs": [
        {
          "output_type": "stream",
          "text": [
            "Enter a number to check: 56\n",
            "Enter a number to divide by: 7\n",
            " num = 56\n",
            " check = 7\n"
          ],
          "name": "stdout"
        }
      ]
    },
    {
      "cell_type": "code",
      "metadata": {
        "id": "5mkKtxzunuqc",
        "colab": {
          "base_uri": "https://localhost:8080/"
        },
        "outputId": "c4d84f3a-9e51-4c38-c61f-bffb3dd09fb7"
      },
      "source": [
        "if num % check == 0:\r\n",
        "  print(\"check divides num evenly and hence is a factor of num!\")\r\n",
        "else:\r\n",
        "  print(\"check doesn't divide num evenly!\")"
      ],
      "execution_count": null,
      "outputs": [
        {
          "output_type": "stream",
          "text": [
            "check divides num evenly and hence is a factor of num!\n"
          ],
          "name": "stdout"
        }
      ]
    }
  ]
}