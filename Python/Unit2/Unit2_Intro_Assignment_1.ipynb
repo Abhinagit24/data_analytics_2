{
  "nbformat": 4,
  "nbformat_minor": 0,
  "metadata": {
    "colab": {
      "name": "Unit2_Intro_Assignment_1.ipynb",
      "provenance": [],
      "collapsed_sections": [],
      "include_colab_link": true
    },
    "kernelspec": {
      "name": "python3",
      "display_name": "Python 3"
    }
  },
  "cells": [
    {
      "cell_type": "markdown",
      "metadata": {
        "id": "view-in-github",
        "colab_type": "text"
      },
      "source": [
        "<a href=\"https://colab.research.google.com/github/Abhinagit24/data_analytics_2/blob/main/Python/Unit2/Unit2_Intro_Assignment_1.ipynb\" target=\"_parent\"><img src=\"https://colab.research.google.com/assets/colab-badge.svg\" alt=\"Open In Colab\"/></a>"
      ]
    },
    {
      "cell_type": "markdown",
      "metadata": {
        "id": "Vgs8Kp4TidFQ"
      },
      "source": [
        "# Lesson 1 - Intrdouction to Python - Assignment 1\r\n",
        "\r\n",
        "> Indented block\r\n",
        "\r\n"
      ]
    },
    {
      "cell_type": "markdown",
      "metadata": {
        "id": "_Hq7Ny79iwgD"
      },
      "source": [
        "## 1.\tWhat is Python and why is it useful?"
      ]
    },
    {
      "cell_type": "markdown",
      "metadata": {
        "id": "DBd0pMkDi0pv"
      },
      "source": [
        "Python is a strong and dynamically typed language. It is very useful as it is very interactive, object oriented, focused on reliability and productivity. It is a very powerful programming language and is very useful in Data Analytics."
      ]
    },
    {
      "cell_type": "markdown",
      "metadata": {
        "id": "io_27RSlizno"
      },
      "source": [
        "## 2.\tAre the following variable names allowed in python?"
      ]
    },
    {
      "cell_type": "markdown",
      "metadata": {
        "id": "9_GYv9VTiqrI"
      },
      "source": [
        "a.\t1_message\r\n",
        "\r\n",
        "b.\tGreeting_message\r\n",
        "\r\n",
        "c.\tMessage_1\r\n",
        "\r\n",
        "d.\tFirst name\r\n",
        "\r\n",
        "e.\tFull_name\r\n",
        "\r\n"
      ]
    },
    {
      "cell_type": "markdown",
      "metadata": {
        "id": "b5M6t8YjjPaZ"
      },
      "source": [
        "a.not allowed,\r\n",
        "b.allowed,\r\n",
        "c.allowed,\r\n",
        "d.not allowed,\r\n",
        "e.allowed."
      ]
    },
    {
      "cell_type": "markdown",
      "metadata": {
        "id": "DAW8m8IQjRyR"
      },
      "source": [
        "## 3.\tCreate a variable that holds the string “hello there!”"
      ]
    },
    {
      "cell_type": "code",
      "metadata": {
        "id": "guULMEhrjYtT"
      },
      "source": [
        "greetings = \"hello there!\""
      ],
      "execution_count": null,
      "outputs": []
    },
    {
      "cell_type": "code",
      "metadata": {
        "id": "cv946RaOjw-G",
        "colab": {
          "base_uri": "https://localhost:8080/"
        },
        "outputId": "a2929d96-94f8-4b70-bb83-203889d78954"
      },
      "source": [
        "print (greetings)"
      ],
      "execution_count": null,
      "outputs": [
        {
          "output_type": "stream",
          "text": [
            "hello there!\n"
          ],
          "name": "stdout"
        }
      ]
    },
    {
      "cell_type": "markdown",
      "metadata": {
        "id": "dpa_YOt4jXyo"
      },
      "source": [
        "## 4.\tCreate a variable for first name, last name and an email extension.  Concatenating all three together to form an email address.  For example: firstnamelastname@gmail.com"
      ]
    },
    {
      "cell_type": "code",
      "metadata": {
        "id": "pltxfnh3iJLW"
      },
      "source": [
        "first_name = \"Abhina\"\r\n",
        "last_name = \"Premachandran\""
      ],
      "execution_count": null,
      "outputs": []
    },
    {
      "cell_type": "code",
      "metadata": {
        "id": "PzH5Rcn-jwPL",
        "colab": {
          "base_uri": "https://localhost:8080/"
        },
        "outputId": "ebc07ea8-e45e-4104-cae6-305a61c6cd6b"
      },
      "source": [
        "email_address = first_name + last_name + \"@gmail.com\"\r\n",
        "print(email_address)"
      ],
      "execution_count": null,
      "outputs": [
        {
          "output_type": "stream",
          "text": [
            "AbhinaPremachandran@gmail.com\n"
          ],
          "name": "stdout"
        }
      ]
    },
    {
      "cell_type": "markdown",
      "metadata": {
        "id": "Ka84RGy4jmLT"
      },
      "source": [
        "## 5.\tStore someone you know name in a variable called name.  Print their name in lower and uppercase using a method."
      ]
    },
    {
      "cell_type": "code",
      "metadata": {
        "id": "34IFFtK4jrg4"
      },
      "source": [
        "name = \"Kathy\""
      ],
      "execution_count": null,
      "outputs": []
    },
    {
      "cell_type": "code",
      "metadata": {
        "id": "M17RfxQljvqb",
        "colab": {
          "base_uri": "https://localhost:8080/"
        },
        "outputId": "5ab1dd48-3ded-4c5b-aa24-12d8dbb809d5"
      },
      "source": [
        "print(name.upper())"
      ],
      "execution_count": null,
      "outputs": [
        {
          "output_type": "stream",
          "text": [
            "KATHY\n"
          ],
          "name": "stdout"
        }
      ]
    },
    {
      "cell_type": "code",
      "metadata": {
        "id": "4agTp_Cyju4-",
        "colab": {
          "base_uri": "https://localhost:8080/"
        },
        "outputId": "9a3ddd58-282e-49ca-c6a1-aef7ce087ca5"
      },
      "source": [
        "print(name.lower())"
      ],
      "execution_count": null,
      "outputs": [
        {
          "output_type": "stream",
          "text": [
            "kathy\n"
          ],
          "name": "stdout"
        }
      ]
    }
  ]
}