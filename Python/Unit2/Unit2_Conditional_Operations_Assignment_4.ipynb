{
  "nbformat": 4,
  "nbformat_minor": 0,
  "metadata": {
    "colab": {
      "name": "Unit2_Conditional_Operations_Assignment_4.ipynb",
      "provenance": [],
      "collapsed_sections": [],
      "include_colab_link": true
    },
    "kernelspec": {
      "name": "python3",
      "display_name": "Python 3"
    }
  },
  "cells": [
    {
      "cell_type": "markdown",
      "metadata": {
        "id": "view-in-github",
        "colab_type": "text"
      },
      "source": [
        "<a href=\"https://colab.research.google.com/github/Abhinagit24/data_analytics_2/blob/main/Python/Unit2/Unit2_Conditional_Operations_Assignment_4.ipynb\" target=\"_parent\"><img src=\"https://colab.research.google.com/assets/colab-badge.svg\" alt=\"Open In Colab\"/></a>"
      ]
    },
    {
      "cell_type": "markdown",
      "metadata": {
        "id": "Vgs8Kp4TidFQ"
      },
      "source": [
        "# Intrdouction to Python - Conditional Operations Assignment #4\r\n",
        "\r\n",
        "## If-elif-else Statements "
      ]
    },
    {
      "cell_type": "markdown",
      "metadata": {
        "id": "_Hq7Ny79iwgD"
      },
      "source": [
        "## 1.\tMake a list of 5 or more usernames, including an admin account.  Imagine you are writing code that will welcome people to your application on login. Loop through the list and print your greeting.\r\n",
        "\r\n",
        "a.\tIf the admin account logs in, give them a special greeting.  They’re the admin, after all!\r\n",
        "\r\n",
        "b.\tOther users can get the generic greeting\r\n",
        "\r\n"
      ]
    },
    {
      "cell_type": "code",
      "metadata": {
        "id": "lotvpVpvlKsR"
      },
      "source": [
        "Usernames = ['Admin', 'John12', 'Katie52', 'Marie823','Janet250']"
      ],
      "execution_count": null,
      "outputs": []
    },
    {
      "cell_type": "code",
      "metadata": {
        "id": "oNXY-CfrlLbE",
        "colab": {
          "base_uri": "https://localhost:8080/"
        },
        "outputId": "910364a5-af45-4ad3-c1e2-29b8d03f398c"
      },
      "source": [
        "for user in Usernames:\r\n",
        "  if user == 'Admin':\r\n",
        "    print(\"Hello Admin, Wishing you a great day! \\nWelcome to the application!\") \r\n",
        "  else:\r\n",
        "    print(\"Hello \" + user + \"! Welcome to the 'Data visual' application!\")\r\n"
      ],
      "execution_count": null,
      "outputs": [
        {
          "output_type": "stream",
          "text": [
            "Hello Admin, Wishing you a great day! \n",
            "Welcome to the application!\n",
            "Hello John12! Welcome to the 'Data visual' application!\n",
            "Hello Katie52! Welcome to the 'Data visual' application!\n",
            "Hello Marie823! Welcome to the 'Data visual' application!\n",
            "Hello Janet250! Welcome to the 'Data visual' application!\n"
          ],
          "name": "stdout"
        }
      ]
    },
    {
      "cell_type": "markdown",
      "metadata": {
        "id": "io_27RSlizno"
      },
      "source": [
        "## 2.\tStore numbers 1-10 in a list\r\n",
        "\r\n",
        "a.\tLoop through the list\r\n",
        "\r\n",
        "b.\tUse an if-elif-else chain inside your loop to print the ordinal ending for each number – for example – 1st, 2nd, 3rd … etc.\r\n",
        "\r\n"
      ]
    },
    {
      "cell_type": "code",
      "metadata": {
        "id": "Dh1o5cAylSHB"
      },
      "source": [
        "Numbers10 = ['1','2','3','4','5','6','7','8','9','10']"
      ],
      "execution_count": null,
      "outputs": []
    },
    {
      "cell_type": "code",
      "metadata": {
        "id": "vs8ppR-wlSKL",
        "colab": {
          "base_uri": "https://localhost:8080/"
        },
        "outputId": "d7ce261a-5e0d-4238-80d7-c65f52f8154a"
      },
      "source": [
        "for num in Numbers10:\r\n",
        "  if num == '1':\r\n",
        "    print(num + \" is the \" + num + \" st number\")\r\n",
        "  elif num == '2':\r\n",
        "    print(num + \" is the \" + num + \" nd number\")\r\n",
        "  elif num == '3':\r\n",
        "    print(num + \" is the \" + num + \" rd number\")\r\n",
        "  else:\r\n",
        "    print(num + \" is the \" + num + \" th number\")\r\n",
        "  "
      ],
      "execution_count": null,
      "outputs": [
        {
          "output_type": "stream",
          "text": [
            "1 is the 1 st number\n",
            "2 is the 2 nd number\n",
            "3 is the 3 rd number\n",
            "4 is the 4 th number\n",
            "5 is the 5 th number\n",
            "6 is the 6 th number\n",
            "7 is the 7 th number\n",
            "8 is the 8 th number\n",
            "9 is the 9 th number\n",
            "10 is the 10 th number\n"
          ],
          "name": "stdout"
        }
      ]
    }
  ]
}