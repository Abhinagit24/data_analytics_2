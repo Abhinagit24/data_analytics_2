{
  "nbformat": 4,
  "nbformat_minor": 0,
  "metadata": {
    "colab": {
      "name": "Unit_3_NumPy_Assingment1.ipynb",
      "provenance": []
    },
    "kernelspec": {
      "name": "python3",
      "display_name": "Python 3"
    }
  },
  "cells": [
    {
      "cell_type": "code",
      "metadata": {
        "id": "_ikyqCYYRjK5",
        "colab": {
          "base_uri": "https://localhost:8080/"
        },
        "outputId": "2b61fea6-3533-489a-f2ea-7422e6428f40"
      },
      "source": [
        "#Dataset from summer Olympic London, year 2012\r\n",
        "import numpy as np\r\n",
        "np_olympic_country = np.array(['GBR','China','RUS','US','KOR','JPN','GER'])\r\n",
        "np_olympic_country_Gold = np.array([29,38,24,46,13,7,11])\r\n",
        "np_olympic_country_Silver = np.array([17,28,25,28,8,14,11])\r\n",
        "np_olympic_country_Bronze = np.array([19,22,32,29,7,17,14])\r\n",
        "# To find the country with maximum gold\r\n",
        "max_gold = np.where(np_olympic_country_Gold == np.max(np_olympic_country_Gold))\r\n",
        "print(max_gold[0])\r\n",
        "print(\"The maximum number of gold medals obtained by the countries is:\",np.max(np_olympic_country_Gold))\r\n",
        "print(\"The country with maximum gold is:\",np_olympic_country[max_gold])\r\n",
        "#To find the countries with more than 20 gold medals\r\n",
        "print(\"The countries with more than 20 gold medals:\" ,np_olympic_country[np_olympic_country_Gold >20])\r\n"
      ],
      "execution_count": 9,
      "outputs": [
        {
          "output_type": "stream",
          "text": [
            "[3]\n",
            "The maximum number of gold medals obtained by the countries is: 46\n",
            "The country with maximum gold is: ['US']\n",
            "The countries with more than 20 gold medals: ['GBR' 'China' 'RUS' 'US']\n"
          ],
          "name": "stdout"
        }
      ]
    }
  ]
}