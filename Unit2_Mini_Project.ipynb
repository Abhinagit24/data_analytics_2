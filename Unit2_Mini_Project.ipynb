{
  "nbformat": 4,
  "nbformat_minor": 0,
  "metadata": {
    "colab": {
      "name": "Unit2_Mini_Project.ipynb",
      "provenance": [],
      "authorship_tag": "ABX9TyMRNh2nP1EoQ4YdvdByFWqv",
      "include_colab_link": true
    },
    "kernelspec": {
      "name": "python3",
      "display_name": "Python 3"
    }
  },
  "cells": [
    {
      "cell_type": "markdown",
      "metadata": {
        "id": "view-in-github",
        "colab_type": "text"
      },
      "source": [
        "<a href=\"https://colab.research.google.com/github/Abhinagit24/data_analytics_2/blob/main/Unit2_Mini_Project.ipynb\" target=\"_parent\"><img src=\"https://colab.research.google.com/assets/colab-badge.svg\" alt=\"Open In Colab\"/></a>"
      ]
    },
    {
      "cell_type": "code",
      "metadata": {
        "colab": {
          "base_uri": "https://localhost:8080/"
        },
        "id": "GtVSj6_Q28kr",
        "outputId": "a4b7423e-681f-40d1-dff3-6134d40bb50b"
      },
      "source": [
        "# Unit 2 Mini Project - Odd or Even : Abhina Premachandran\r\n",
        "number = int(input(\"Enter a number: \"))\r\n",
        "if (number % 2) == 0:\r\n",
        "  if (number % 4) == 0:\r\n",
        "    print( str(number) + \" is an even number and is a multiple of 4\")\r\n",
        "  else:\r\n",
        "    print( str(number) + \" is an even number\")\r\n",
        "else:\r\n",
        "  print( str(number) + \" is an odd number\")\r\n",
        "num = int(input(\"Enter a number to check: \"))\r\n",
        "check = int(input(\"Enter a number to divide by: \"))\r\n",
        "print(\" num = \" + str(num))\r\n",
        "print(\" check = \" + str(check))\r\n",
        "if num % check == 0:\r\n",
        "  print(\"check divides num evenly and hence is a factor of num!\")\r\n",
        "else:\r\n",
        "  print(\"check doesn't divide num evenly!\")"
      ],
      "execution_count": 14,
      "outputs": [
        {
          "output_type": "stream",
          "text": [
            "Enter a number: 234\n",
            "234 is an even number\n",
            "Enter a number to check: 450\n",
            "Enter a number to divide by: 5\n",
            " num = 450\n",
            " check = 5\n",
            "check divides num evenly and hence is a factor of num!\n"
          ],
          "name": "stdout"
        }
      ]
    }
  ]
}